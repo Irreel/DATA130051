{
 "cells": [
  {
   "attachments": {},
   "cell_type": "markdown",
   "metadata": {},
   "source": [
    "# Computer Vision - Homework 1\n"
   ]
  },
  {
   "attachments": {},
   "cell_type": "markdown",
   "metadata": {},
   "source": [
    "- 训练\n",
    "\n",
    "- 参数查找\n",
    "\n",
    "- 测试\n",
    "\n",
    "- 可视化"
   ]
  },
  {
   "attachments": {},
   "cell_type": "markdown",
   "metadata": {},
   "source": [
    "- 训练部分\n",
    "[x] 激活函数\n",
    "\n",
    "[x] 反向传播，loss以及梯度的计算\n",
    "\n",
    "[x] 学习率下降策略\n",
    "\n",
    "[x] L2正则化\n",
    "\n",
    "[x] 优化器SGD\n",
    "\n",
    "[x] 保存模型"
   ]
  },
  {
   "attachments": {},
   "cell_type": "markdown",
   "metadata": {},
   "source": [
    "Loss function is 0.5 * MSELoss + lambda * Regularization"
   ]
  },
  {
   "attachments": {},
   "cell_type": "markdown",
   "metadata": {},
   "source": [
    "学习率下降策略\n",
    "衰减"
   ]
  },
  {
   "cell_type": "code",
   "execution_count": null,
   "metadata": {
    "vscode": {
     "languageId": "plaintext"
    }
   },
   "outputs": [],
   "source": [
    "# Decay strategy\n",
    "if i // DECAY_PER_EPOCH == 0: \n",
    "    lr *= DECAY_FACTOR"
   ]
  },
  {
   "attachments": {},
   "cell_type": "markdown",
   "metadata": {},
   "source": [
    "- 参数查找\n",
    "\n",
    "使用Grid Search方法\n",
    "\n",
    "学习率，隐藏层大小，正则化强度的Grid设计如下"
   ]
  },
  {
   "cell_type": "code",
   "execution_count": null,
   "metadata": {
    "vscode": {
     "languageId": "plaintext"
    }
   },
   "outputs": [],
   "source": [
    "# Grid Search\n",
    "LR_GRID = [1e-2, 1e-3, 1e-4, 1e-5]\n",
    "HID_GRID = [196, 98, 49]\n",
    "LAMBDA_GRID = [1, 0.5, 0.25] # Regularization term"
   ]
  },
  {
   "attachments": {},
   "cell_type": "markdown",
   "metadata": {},
   "source": [
    "数据预处理\n",
    "将label数据转换成One-hot Encoder形式编码的向量"
   ]
  },
  {
   "attachments": {},
   "cell_type": "markdown",
   "metadata": {},
   "source": [
    "NNClassifer\n",
    "首先，将输入的二维图像数组摊平成一维形式"
   ]
  },
  {
   "attachments": {},
   "cell_type": "markdown",
   "metadata": {},
   "source": [
    "- 测试\n",
    "  \n",
    "导入模型并从.json中读入参数查找的结果进行测试，打印分类精度"
   ]
  },
  {
   "attachments": {},
   "cell_type": "markdown",
   "metadata": {},
   "source": [
    "- 可视化\n",
    "\n",
    "可视化结果如下"
   ]
  }
 ],
 "metadata": {
  "language_info": {
   "name": "python"
  },
  "orig_nbformat": 4
 },
 "nbformat": 4,
 "nbformat_minor": 2
}
